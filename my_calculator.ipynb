{
 "cells": [
  {
   "cell_type": "code",
   "execution_count": null,
   "id": "086aab1a-1740-4a08-b4f5-09bfa16dd65c",
   "metadata": {},
   "outputs": [],
   "source": [
    "from tkinter import *\n",
    "def click(num):\n",
    "    global op\n",
    "    op=op+str(num)\n",
    "    iptext.set(op)\n",
    "def evaluate():\n",
    "    global op\n",
    "    output=str(eval(op))\n",
    "    iptext.set(op)\n",
    "def clearDisplay():\n",
    "    global op\n",
    "    op=\"\"\n",
    "    iptext.set(op)\n",
    "calc=Tk()\n",
    "calc.title(\"My Calculator\")\n",
    "op=\"\"\n",
    "iptext=StringVar()\n",
    "iparea=Entry(calc,font=('large,_font',15,'bold'),bd=10,justify=\"right\",insertwidth=4,textvariable=iptext).grid(columnspan=10)\n",
    "bt7=Button(calc,font=('arial',15,'bold'),command=lambda:click(7),bg=\"lavender\",text=\"7\",bd=5,padx=15,pady=10).grid(row=1,column=0)\n",
    "bt8=Button(calc,font=('arial',15,'bold'),command=lambda:click(8),bg=\"lavender\",text=\"8\",bd=5,padx=15,pady=10).grid(row=1,column=1)\n",
    "bt9=Button(calc,font=('arial',15,'bold'),command=lambda:click(9),bg=\"lavender\",text=\"9\",bd=5,padx=15,pady=10).grid(row=1,column=2)\n",
    "add=Button(calc,font=('arial',15,'bold'),command=lambda:click('+'),bg=\"lavender\",text=\"+\",bd=5,padx=15,pady=10).grid(row=1,column=3)\n",
    "bt4=Button(calc,font=('arial',15,'bold'),command=lambda:click(4),bg=\"lavender\",text=\"4\",bd=5,padx=15,pady=10).grid(row=2,column=0)\n",
    "bt5=Button(calc,font=('arial',15,'bold'),command=lambda:click(5),bg=\"lavender\",text=\"5\",bd=5,padx=15,pady=10).grid(row=2,column=1)\n",
    "bt6=Button(calc,font=('arial',15,'bold'),command=lambda:click(6),bg=\"lavender\",text=\"6\",bd=5,padx=15,pady=10).grid(row=2,column=2)\n",
    "sub=Button(calc,font=('arial',15,'bold'),command=lambda:click('-'),bg=\"lavender\",text=\"-\",bd=5,padx=15,pady=10).grid(row=2,column=3)\n",
    "bt1=Button(calc,font=('arial',15,'bold'),command=lambda:click(1),bg=\"lavender\",text=\"1\",bd=5,padx=15,pady=10).grid(row=3,column=0)\n",
    "bt2=Button(calc,font=('arial',15,'bold'),command=lambda:click(2),bg=\"lavender\",text=\"2\",bd=5,padx=15,pady=10).grid(row=3,column=1)\n",
    "bt3=Button(calc,font=('arial',15,'bold'),command=lambda:click(3),bg=\"lavender\",text=\"3\",bd=5,padx=15,pady=10).grid(row=3,column=2)\n",
    "mul=Button(calc,font=('arial',15,'bold'),command=lambda:click('*'),bg=\"lavender\",text=\"*\",bd=5,padx=15,pady=10).grid(row=3,column=3)\n",
    "bt0=Button(calc,font=('arial',15,'bold'),command=lambda:click(0),bg=\"lavender\",text=\"0\",bd=5,padx=15,pady=10).grid(row=4,column=1)\n",
    "btC=Button(calc,font=('arial',15,'bold'),command=clearDisplay,bg=\"lavender\",text=\"C\",bd=5,padx=15,pady=10).grid(row=4,column=1)\n",
    "eq1=Button(calc,font=('arial',15,'bold'),command=evaluate,bg=\"lavender\",text=\"=\",bd=5,padx=15,pady=10).grid(row=4,column=2)\n",
    "div=Button(calc,font=('arial',15,'bold'),command=lambda:click('/'),bg=\"lavender\",text=\"/\",bd=5,padx=15,pady=10).grid(row=4,column=3)\n",
    "calc.mainloop(),"
   ]
  },
  {
   "cell_type": "code",
   "execution_count": null,
   "id": "d4b2c3e3-f1c0-404c-804c-f750091234bc",
   "metadata": {},
   "outputs": [],
   "source": []
  }
 ],
 "metadata": {
  "kernelspec": {
   "display_name": "Python 3 (ipykernel)",
   "language": "python",
   "name": "python3"
  },
  "language_info": {
   "codemirror_mode": {
    "name": "ipython",
    "version": 3
   },
   "file_extension": ".py",
   "mimetype": "text/x-python",
   "name": "python",
   "nbconvert_exporter": "python",
   "pygments_lexer": "ipython3",
   "version": "3.12.0"
  }
 },
 "nbformat": 4,
 "nbformat_minor": 5
}
